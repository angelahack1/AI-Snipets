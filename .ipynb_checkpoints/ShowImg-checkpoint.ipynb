{
 "cells": [
  {
   "cell_type": "code",
   "execution_count": 1,
   "id": "5e920414-2ff2-4b27-8e82-597933b3cedb",
   "metadata": {},
   "outputs": [],
   "source": [
    "import numpy as np\n",
    "import cv2 as cv\n",
    "from matplotlib import pyplot as plt"
   ]
  },
  {
   "cell_type": "code",
   "execution_count": 2,
   "id": "7188879a-128b-47a7-86e2-897c778388c3",
   "metadata": {},
   "outputs": [],
   "source": [
    "image = cv.imread('miniKDA.jpg', 1)"
   ]
  },
  {
   "cell_type": "code",
   "execution_count": 3,
   "id": "4a67d431-f079-4c72-9370-d728f3943da6",
   "metadata": {},
   "outputs": [],
   "source": [
    "cv.imshow('Image',image)\n",
    "\n",
    "cv.waitKey(0)\n",
    "cv.destroyAllWindows()"
   ]
  },
  {
   "cell_type": "code",
   "execution_count": 4,
   "id": "0741396e-320a-461a-8703-10a29cf1bd55",
   "metadata": {},
   "outputs": [
    {
     "name": "stdout",
     "output_type": "stream",
     "text": [
      "(360, 640, 3)\n"
     ]
    }
   ],
   "source": [
    "print(image.shape)"
   ]
  },
  {
   "cell_type": "code",
   "execution_count": 6,
   "id": "8682136c-eab7-4c5e-a11f-b6c7d936d992",
   "metadata": {},
   "outputs": [],
   "source": [
    "grayscale_image = cv.cvtColor(image, cv.COLOR_BGR2GRAY)"
   ]
  },
  {
   "cell_type": "code",
   "execution_count": 7,
   "id": "9272a0f5-11be-4759-b120-09d48eb1c449",
   "metadata": {},
   "outputs": [],
   "source": [
    "cv.imshow('Image',grayscale_image)\n",
    "\n",
    "cv.waitKey(0)\n",
    "cv.destroyAllWindows()"
   ]
  },
  {
   "cell_type": "code",
   "execution_count": 3,
   "id": "b50efad3-0e17-4b5a-a718-ec8aca36dbbe",
   "metadata": {},
   "outputs": [],
   "source": [
    "resized_image = cv.resize(image, (1024, 768))"
   ]
  },
  {
   "cell_type": "code",
   "execution_count": 4,
   "id": "cbfea42a-1307-471b-8355-8395c11fc9d7",
   "metadata": {},
   "outputs": [],
   "source": [
    "cv.imshow('Image',resized_image)\n",
    "\n",
    "cv.waitKey(0)\n",
    "cv.destroyAllWindows()"
   ]
  },
  {
   "cell_type": "code",
   "execution_count": 5,
   "id": "21fb7533-5327-4a27-a3a2-be20f97536eb",
   "metadata": {},
   "outputs": [],
   "source": [
    "kernel = np.ones((5,5),np.float32)/25\n",
    "dst_image = cv.filter2D(image,-1,kernel)"
   ]
  },
  {
   "cell_type": "code",
   "execution_count": 7,
   "id": "cff8e5e6-748c-474a-9d6d-bb8485ed15fc",
   "metadata": {},
   "outputs": [],
   "source": [
    "cv.imshow('Image',dst_image)\n",
    "\n",
    "cv.waitKey(0)\n",
    "cv.destroyAllWindows()"
   ]
  },
  {
   "cell_type": "code",
   "execution_count": 8,
   "id": "8add0f03-16ea-47a5-ac59-8ec25fd1fac6",
   "metadata": {},
   "outputs": [],
   "source": [
    "blured2_dst_image = cv.blur(image,(5,5))"
   ]
  },
  {
   "cell_type": "code",
   "execution_count": 9,
   "id": "65d195a3-fd87-4f28-8ad9-ef2010f42d80",
   "metadata": {},
   "outputs": [],
   "source": [
    "cv.imshow('Image',blured2_dst_image)\n",
    "\n",
    "cv.waitKey(0)\n",
    "cv.destroyAllWindows()"
   ]
  },
  {
   "cell_type": "code",
   "execution_count": 10,
   "id": "849dfc24-b77e-4304-a4cf-de2e4ae1647c",
   "metadata": {},
   "outputs": [],
   "source": [
    "blured3_dst_image = cv.GaussianBlur(image,(3,3),0)"
   ]
  },
  {
   "cell_type": "code",
   "execution_count": 11,
   "id": "9954f2e2-8bc2-4846-a04c-7ac67fbc08c2",
   "metadata": {},
   "outputs": [],
   "source": [
    "cv.imshow('Image',blured3_dst_image)\n",
    "\n",
    "cv.waitKey(0)\n",
    "cv.destroyAllWindows()"
   ]
  },
  {
   "cell_type": "code",
   "execution_count": 12,
   "id": "a49aad82-79dc-4dc6-8054-1143f9c12cb3",
   "metadata": {},
   "outputs": [],
   "source": [
    "blured4_median_image = cv.medianBlur(image,5)"
   ]
  },
  {
   "cell_type": "code",
   "execution_count": 13,
   "id": "2cbe0125-09f8-440f-8b44-8c8a839987f3",
   "metadata": {},
   "outputs": [],
   "source": [
    "cv.imshow('Image',blured4_median_image)\n",
    "\n",
    "cv.waitKey(0)\n",
    "cv.destroyAllWindows()"
   ]
  },
  {
   "cell_type": "code",
   "execution_count": 15,
   "id": "6a905ad4-d7d6-4d10-91be-72ac2ab41559",
   "metadata": {},
   "outputs": [],
   "source": [
    "blured5_dst_image = cv.bilateralFilter(image,9,75,75)"
   ]
  },
  {
   "cell_type": "code",
   "execution_count": 16,
   "id": "0f24bc3f-9c8c-4d10-a225-775727c3f2de",
   "metadata": {},
   "outputs": [],
   "source": [
    "cv.imshow('Image',blured5_dst_image)\n",
    "\n",
    "cv.waitKey(0)\n",
    "cv.destroyAllWindows()"
   ]
  },
  {
   "cell_type": "code",
   "execution_count": 20,
   "id": "c3ddb30a-c66f-4437-a4de-a97da2d01953",
   "metadata": {},
   "outputs": [],
   "source": [
    "image_gray = cv.cvtColor(image, cv.COLOR_BGR2GRAY)\n",
    "ret, thresh = cv.threshold(image_gray, 127, 255, 0)\n",
    "contours, hierarchy = cv.findContours(thresh, cv.RETR_TREE, cv.CHAIN_APPROX_SIMPLE)"
   ]
  },
  {
   "cell_type": "code",
   "execution_count": 21,
   "id": "cfce931d-cb82-458b-b413-e9591197c4ad",
   "metadata": {},
   "outputs": [],
   "source": [
    "image_contoured = cv.drawContours(image, contours, -1, (0,0,0), 1)"
   ]
  },
  {
   "cell_type": "code",
   "execution_count": 22,
   "id": "ecfc11eb-d262-4795-97c6-63b404c083a8",
   "metadata": {},
   "outputs": [],
   "source": [
    "cv.imshow('Image',image_contoured)\n",
    "\n",
    "cv.waitKey(0)\n",
    "cv.destroyAllWindows()"
   ]
  },
  {
   "cell_type": "code",
   "execution_count": null,
   "id": "4a23fe29-6927-4595-8523-35e72c6a5d48",
   "metadata": {},
   "outputs": [],
   "source": []
  }
 ],
 "metadata": {
  "kernelspec": {
   "display_name": "Python 3 (ipykernel)",
   "language": "python",
   "name": "python3"
  },
  "language_info": {
   "codemirror_mode": {
    "name": "ipython",
    "version": 3
   },
   "file_extension": ".py",
   "mimetype": "text/x-python",
   "name": "python",
   "nbconvert_exporter": "python",
   "pygments_lexer": "ipython3",
   "version": "3.11.9"
  }
 },
 "nbformat": 4,
 "nbformat_minor": 5
}
