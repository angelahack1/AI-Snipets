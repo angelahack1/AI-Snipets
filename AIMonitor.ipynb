{
 "cells": [
  {
   "cell_type": "code",
   "execution_count": 1,
   "id": "620c7aed-440e-48f6-b987-cd48ffda553c",
   "metadata": {},
   "outputs": [],
   "source": [
    "import psutil"
   ]
  },
  {
   "cell_type": "code",
   "execution_count": 2,
   "id": "e57f47b8-8a94-4b14-96e7-60ff8d905724",
   "metadata": {},
   "outputs": [],
   "source": [
    "import pandas as pd"
   ]
  },
  {
   "cell_type": "code",
   "execution_count": 3,
   "id": "c30fade8-df74-4ecd-af35-edd9af8dc012",
   "metadata": {},
   "outputs": [],
   "source": [
    "import seaborn as sns"
   ]
  },
  {
   "cell_type": "code",
   "execution_count": 4,
   "id": "9bcb7de4-0e8d-4fc4-9ad4-4d206b352aee",
   "metadata": {},
   "outputs": [],
   "source": [
    "from pynput import keyboard"
   ]
  },
  {
   "cell_type": "code",
   "execution_count": 5,
   "id": "79fd6295-7bf3-4700-a9c6-a785330e5842",
   "metadata": {},
   "outputs": [],
   "source": [
    "import time\n",
    "import matplotlib.pyplot as plt"
   ]
  },
  {
   "cell_type": "code",
   "execution_count": 6,
   "id": "3709e436-9398-489a-9c9e-02d405863ec6",
   "metadata": {},
   "outputs": [],
   "source": [
    "def get_process_name_by_pid(pid):\n",
    "    try:\n",
    "        process = psutil.Process(pid)\n",
    "        return process.name()\n",
    "    except (psutil.NoSuchProcess, psutil.AccessDenied, psutil.ZombieProcess):\n",
    "        return \"N/A\""
   ]
  },
  {
   "cell_type": "code",
   "execution_count": 7,
   "id": "4ee6d5de-2905-4063-9364-1abce9edc0e3",
   "metadata": {},
   "outputs": [],
   "source": [
    "pids_array = []\n",
    "names_array = []\n",
    "raddr_ip_array = []\n",
    "raddr_port_array = []\n",
    "\n",
    "def list_connections():\n",
    "    counter = 0\n",
    "    for conn in psutil.net_connections(kind='inet'):\n",
    "        if conn.status == 'ESTABLISHED' and conn.raddr.ip != '127.0.0.1' and conn.raddr.ip != '::1':\n",
    "            process_name = get_process_name_by_pid(conn.pid) if conn.pid else \"N/A\"\n",
    "            # print(f\"{conn.pid}, {process_name}, {conn.status}, {conn.raddr.ip}, {conn.raddr.port}\")\n",
    "            pids_array.append(conn.pid)\n",
    "            names_array.append(process_name)\n",
    "            raddr_ip_array.append(conn.raddr.ip)\n",
    "            raddr_port_array.append(conn.raddr.port)\n",
    "            counter += 1\n",
    "    print('Number of connections ESTABLISHED: ', counter)"
   ]
  },
  {
   "cell_type": "code",
   "execution_count": 8,
   "id": "249645eb-7d25-4075-80ee-ba7210030295",
   "metadata": {},
   "outputs": [],
   "source": [
    "def on_press(key):\n",
    "    if key == keyboard.Key.esc:\n",
    "        return False  # Stop listener"
   ]
  },
  {
   "cell_type": "code",
   "execution_count": 9,
   "id": "6c8966e9-442d-4910-bb16-27d2ed13b00f",
   "metadata": {},
   "outputs": [],
   "source": [
    "listener = keyboard.Listener(on_press=on_press)\n",
    "listener.start()"
   ]
  },
  {
   "cell_type": "code",
   "execution_count": 10,
   "id": "2021278e-a3f1-457f-b5fd-8a99217ca8a6",
   "metadata": {},
   "outputs": [
    {
     "name": "stdout",
     "output_type": "stream",
     "text": [
      "Number of connections ESTABLISHED:  43\n",
      "Process: CcmExec.exe, IPs: ['170.70.13.148']\n",
      "Process: CiscoCollabHost.exe, IPs: ['170.70.13.190', '172.16.31.4', '170.72.245.159', '172.16.31.3', '172.16.31.6']\n",
      "Process: Code.exe, IPs: ['216.24.57.4', '20.189.173.16']\n",
      "Process: EmaAgent.exe, IPs: ['172.17.31.29']\n",
      "Process: HealthService.exe, IPs: ['170.70.13.35']\n",
      "Process: Parity.exe, IPs: ['170.70.13.206']\n",
      "Process: PicaSvc2.exe, IPs: ['172.18.187.32']\n",
      "Process: System, IPs: ['170.70.13.225', '170.70.13.161', '100.20.76.137']\n",
      "Process: chrome.exe, IPs: ['192.178.57.14', '142.250.177.10', '192.178.52.174', '192.178.56.174', '20.50.80.209', '142.250.115.188', '192.178.52.238', '192.178.52.142', '52.111.239.42']\n",
      "Process: msedge.exe, IPs: ['52.168.117.168', '192.178.57.14', '13.107.21.239', '189.247.197.81']\n",
      "Process: splunkd.exe, IPs: ['170.70.13.82']\n",
      "Process: spoolsv.exe, IPs: ['170.70.49.194', '170.70.49.195', '170.70.49.195', '170.70.49.194']\n",
      "Number of connections ESTABLISHED:  43\n",
      "Process: CcmExec.exe, IPs: ['170.70.13.148']\n",
      "Process: CiscoCollabHost.exe, IPs: ['170.70.13.190', '172.16.31.4', '170.72.245.159', '172.16.31.3', '172.16.31.6']\n",
      "Process: Code.exe, IPs: ['216.24.57.4', '20.189.173.16']\n",
      "Process: EmaAgent.exe, IPs: ['172.17.31.29']\n",
      "Process: HealthService.exe, IPs: ['170.70.13.35']\n",
      "Process: Parity.exe, IPs: ['170.70.13.206']\n",
      "Process: PicaSvc2.exe, IPs: ['172.18.187.32']\n",
      "Process: System, IPs: ['170.70.13.225', '170.70.13.161', '100.20.76.137']\n",
      "Process: chrome.exe, IPs: ['192.178.57.14', '142.250.177.10', '192.178.52.174', '192.178.56.174', '20.50.80.209', '142.250.115.188', '192.178.52.238', '192.178.52.142', '52.111.239.42']\n",
      "Process: msedge.exe, IPs: ['52.168.117.168', '192.178.57.14', '13.107.21.239', '189.247.197.81']\n",
      "Process: splunkd.exe, IPs: ['170.70.13.82']\n",
      "Process: spoolsv.exe, IPs: ['170.70.49.194', '170.70.49.195', '170.70.49.195', '170.70.49.194']\n",
      "Number of connections ESTABLISHED:  43\n",
      "Process: CcmExec.exe, IPs: ['170.70.13.148']\n",
      "Process: CiscoCollabHost.exe, IPs: ['170.70.13.190', '172.16.31.4', '170.72.245.159', '172.16.31.3', '172.16.31.6']\n",
      "Process: Code.exe, IPs: ['216.24.57.4', '20.189.173.16']\n",
      "Process: EmaAgent.exe, IPs: ['172.17.31.29']\n",
      "Process: HealthService.exe, IPs: ['170.70.13.35']\n",
      "Process: Parity.exe, IPs: ['170.70.13.206']\n",
      "Process: PicaSvc2.exe, IPs: ['172.18.187.32']\n",
      "Process: System, IPs: ['170.70.13.225', '170.70.13.161', '100.20.76.137']\n",
      "Process: chrome.exe, IPs: ['192.178.57.14', '142.250.177.10', '192.178.52.174', '192.178.56.174', '20.50.80.209', '142.250.115.188', '192.178.52.238', '192.178.52.142', '52.111.239.42']\n",
      "Process: msedge.exe, IPs: ['52.168.117.168', '192.178.57.14', '13.107.21.239', '189.247.197.81']\n",
      "Process: splunkd.exe, IPs: ['170.70.13.82']\n",
      "Process: spoolsv.exe, IPs: ['170.70.49.194', '170.70.49.195', '170.70.49.195', '170.70.49.194']\n",
      "Number of connections ESTABLISHED:  43\n",
      "Process: CcmExec.exe, IPs: ['170.70.13.148']\n",
      "Process: CiscoCollabHost.exe, IPs: ['170.70.13.190', '172.16.31.4', '170.72.245.159', '172.16.31.3', '172.16.31.6']\n",
      "Process: Code.exe, IPs: ['216.24.57.4', '20.189.173.16']\n",
      "Process: EmaAgent.exe, IPs: ['172.17.31.29']\n",
      "Process: HealthService.exe, IPs: ['170.70.13.35']\n",
      "Process: Parity.exe, IPs: ['170.70.13.206']\n",
      "Process: PicaSvc2.exe, IPs: ['172.18.187.32']\n",
      "Process: System, IPs: ['170.70.13.225', '170.70.13.161', '100.20.76.137']\n",
      "Process: chrome.exe, IPs: ['192.178.57.14', '142.250.177.10', '192.178.52.174', '192.178.56.174', '20.50.80.209', '142.250.115.188', '192.178.52.238', '192.178.52.142', '52.111.239.42']\n",
      "Process: msedge.exe, IPs: ['52.168.117.168', '192.178.57.14', '13.107.21.239', '189.247.197.81']\n",
      "Process: splunkd.exe, IPs: ['170.70.13.82']\n",
      "Process: spoolsv.exe, IPs: ['170.70.49.194', '170.70.49.195', '170.70.49.195', '170.70.49.194']\n",
      "Number of connections ESTABLISHED:  43\n",
      "Process: CcmExec.exe, IPs: ['170.70.13.148']\n",
      "Process: CiscoCollabHost.exe, IPs: ['170.70.13.190', '172.16.31.4', '170.72.245.159', '172.16.31.3', '172.16.31.6']\n",
      "Process: Code.exe, IPs: ['216.24.57.4', '20.189.173.16']\n",
      "Process: EmaAgent.exe, IPs: ['172.17.31.29']\n",
      "Process: HealthService.exe, IPs: ['170.70.13.35']\n",
      "Process: Parity.exe, IPs: ['170.70.13.206']\n",
      "Process: PicaSvc2.exe, IPs: ['172.18.187.32']\n",
      "Process: System, IPs: ['170.70.13.225', '170.70.13.161', '100.20.76.137']\n",
      "Process: chrome.exe, IPs: ['192.178.57.14', '142.250.177.10', '192.178.52.174', '192.178.56.174', '20.50.80.209', '142.250.115.188', '192.178.52.238', '192.178.52.142', '52.111.239.42']\n",
      "Process: msedge.exe, IPs: ['52.168.117.168', '192.178.57.14', '13.107.21.239', '189.247.197.81']\n",
      "Process: splunkd.exe, IPs: ['170.70.13.82']\n",
      "Process: spoolsv.exe, IPs: ['170.70.49.194', '170.70.49.195', '170.70.49.195', '170.70.49.194']\n"
     ]
    }
   ],
   "source": [
    "while listener.is_alive(): \n",
    "        list_connections()\n",
    "        df = pd.DataFrame(data={'pid': pids_array, 'name': names_array, 'ip': raddr_ip_array, 'port': raddr_port_array})\n",
    "        df.dropna(inplace=True)\n",
    "        df.drop_duplicates(inplace=True)\n",
    "        df_sorted_by_name = df.groupby('name')\n",
    "        # Print all IPs used by each process\n",
    "        df_sorted_by_name.apply(lambda x: print(f\"Process: {x.name}, IPs: {x['ip'].tolist()}\"), include_groups=False)\n",
    "        time.sleep(1)"
   ]
  },
  {
   "cell_type": "code",
   "execution_count": null,
   "id": "447268d7-b6a8-40c1-a485-48bfb52a9eab",
   "metadata": {},
   "outputs": [],
   "source": []
  }
 ],
 "metadata": {
  "kernelspec": {
   "display_name": "Python 3 (ipykernel)",
   "language": "python",
   "name": "python3"
  },
  "language_info": {
   "codemirror_mode": {
    "name": "ipython",
    "version": 3
   },
   "file_extension": ".py",
   "mimetype": "text/x-python",
   "name": "python",
   "nbconvert_exporter": "python",
   "pygments_lexer": "ipython3",
   "version": "3.11.9"
  }
 },
 "nbformat": 4,
 "nbformat_minor": 5
}
